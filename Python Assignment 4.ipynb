{
 "cells": [
  {
   "cell_type": "code",
   "execution_count": 14,
   "id": "d52e9a4f",
   "metadata": {},
   "outputs": [
    {
     "name": "stdout",
     "output_type": "stream",
     "text": [
      "Enter 1st number: 45\n",
      "Enter operator: +\n",
      "Enter 2nd number: 89\n",
      "134\n"
     ]
    }
   ],
   "source": [
    "# Qno:1\n",
    "num_one = int(input(\"Enter 1st number: \"))\n",
    "\n",
    "operator = input(\"Enter operator: \")\n",
    "\n",
    "num_two = int(input(\"Enter 2nd number: \"))\n",
    "\n",
    "if operator == \"+\":\n",
    "    print(num_one + num_two)\n",
    "elif operator == \"-\":\n",
    "    print(num_one - num_two)\n",
    "elif operator == \"*\" or op == \"x\":\n",
    "    print(num_one * num_two)\n",
    "elif operator == \"/\":\n",
    "    print(num_one / num_two)\n",
    "else :\n",
    "    print(\"Null\")"
   ]
  },
  {
   "cell_type": "code",
   "execution_count": 18,
   "id": "bb2a451c",
   "metadata": {},
   "outputs": [
    {
     "name": "stdout",
     "output_type": "stream",
     "text": [
      "4\n",
      "6\n",
      "9\n",
      "12\n"
     ]
    }
   ],
   "source": [
    "# Qno:2\n",
    "list = [\"Bilal\", \"Junaid\", 4, 6, \"Hamid\" , \"Ayaz\" , 9 ,12, \"Naeem\"] \n",
    "for c in list: \n",
    "    if type(c) == int: \n",
    "        print(c)"
   ]
  },
  {
   "cell_type": "code",
   "execution_count": 7,
   "id": "23d73c7b",
   "metadata": {},
   "outputs": [
    {
     "name": "stdout",
     "output_type": "stream",
     "text": [
      "{'Bilal': '03242682078', 'Kareem': '03136147060'}\n",
      "{'Bilal': '03242682078', 'Kareem': '03136147060', 'Junaid': '03242682054'}\n"
     ]
    }
   ],
   "source": [
    "# Qno:3\n",
    "d = {'Bilal':\"03242682078\", 'Kareem': \"03136147060\"}\n",
    "print(d)\n",
    "d.update({'Junaid' : \"03242682054\"})\n",
    "print(d)\n"
   ]
  },
  {
   "cell_type": "code",
   "execution_count": 17,
   "id": "52355109",
   "metadata": {},
   "outputs": [
    {
     "name": "stdout",
     "output_type": "stream",
     "text": [
      "482\n"
     ]
    }
   ],
   "source": [
    " # Qno:4\n",
    "my_dictonary = {'1stvalue':190,'2ndvalue':45,'3rdvalue':247}\n",
    "print(sum(my_dictonary.values()))"
   ]
  },
  {
   "cell_type": "code",
   "execution_count": 20,
   "id": "92e0cec1",
   "metadata": {},
   "outputs": [
    {
     "name": "stdout",
     "output_type": "stream",
     "text": [
      "4 7 5 1 "
     ]
    }
   ],
   "source": [
    "# Qno:5\n",
    "list=[1,4,5,6,7,2,4,8,9,7,5,10,1]\n",
    "res=[]\n",
    "for i in list:\n",
    "    if i not in res:\n",
    "        res.append(i)\n",
    "    else:\n",
    "        print(i,end=' ')"
   ]
  },
  {
   "cell_type": "code",
   "execution_count": 29,
   "id": "7bb9455c",
   "metadata": {},
   "outputs": [
    {
     "name": "stdout",
     "output_type": "stream",
     "text": [
      "Key 5 is present in the dictionary\n"
     ]
    }
   ],
   "source": [
    "# Qno:6\n",
    "d = {1: 10, 2: 20, 3: 30, 4: 40, 5: 50, 6: 60}\n",
    "def is_key_present(x):\n",
    "  if x in d:\n",
    "      print('Key 5 is present in the dictionary')\n",
    "  \n",
    "is_key_present(5)"
   ]
  },
  {
   "cell_type": "code",
   "execution_count": null,
   "id": "79866a51",
   "metadata": {},
   "outputs": [],
   "source": []
  },
  {
   "cell_type": "code",
   "execution_count": null,
   "id": "92469f78",
   "metadata": {},
   "outputs": [],
   "source": []
  }
 ],
 "metadata": {
  "kernelspec": {
   "display_name": "Python 3",
   "language": "python",
   "name": "python3"
  },
  "language_info": {
   "codemirror_mode": {
    "name": "ipython",
    "version": 3
   },
   "file_extension": ".py",
   "mimetype": "text/x-python",
   "name": "python",
   "nbconvert_exporter": "python",
   "pygments_lexer": "ipython3",
   "version": "3.8.8"
  }
 },
 "nbformat": 4,
 "nbformat_minor": 5
}
